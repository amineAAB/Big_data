{
 "cells": [
  {
   "cell_type": "markdown",
   "metadata": {},
   "source": [
    "Importer les librairies"
   ]
  },
  {
   "cell_type": "code",
   "execution_count": 3,
   "metadata": {},
   "outputs": [],
   "source": [
    "from pyspark import SparkContext\n",
    "from pyspark.sql import SparkSession\n",
    "from pyspark.sql import functions as F"
   ]
  },
  {
   "cell_type": "code",
   "execution_count": null,
   "metadata": {},
   "outputs": [],
   "source": [
    "spark = SparkSession.builder.master(\"local\").appName(\"BDA-SQL\").getOrCreate()"
   ]
  },
  {
   "cell_type": "markdown",
   "metadata": {},
   "source": [
    "Créer les tables"
   ]
  },
  {
   "cell_type": "code",
   "execution_count": 10,
   "metadata": {},
   "outputs": [
    {
     "name": "stdout",
     "output_type": "stream",
     "text": [
      "+-----+-----------------+\n",
      "|  aid|             name|\n",
      "+-----+-----------------+\n",
      "|07890| Jean Paul Sartre|\n",
      "|05678|Pierre de Ronsard|\n",
      "+-----+-----------------+\n",
      "\n"
     ]
    }
   ],
   "source": [
    "t1 = [('07890','Jean Paul Sartre'),\n",
    "        ('05678','Pierre de Ronsard')]\n",
    "rdd1 = spark.sparkContext.parallelize(t1) \n",
    "author = rdd1.toDF(['aid','name'])\n",
    "author.show()"
   ]
  },
  {
   "cell_type": "code",
   "execution_count": 12,
   "metadata": {},
   "outputs": [
    {
     "name": "stdout",
     "output_type": "stream",
     "text": [
      "+----+--------------------+-----------+\n",
      "| bid|               title|   category|\n",
      "+----+--------------------+-----------+\n",
      "|0001|L'existentialisme...|Philosophie|\n",
      "|0002|Huis clos. Suivi ...|Philosophie|\n",
      "|0003|Mignonne allons v...|      Poeme|\n",
      "|0004|          Les Amours|      Poème|\n",
      "+----+--------------------+-----------+\n",
      "\n"
     ]
    }
   ],
   "source": [
    "t2 = [('0001', \"L'existentialisme est un humanisme\", 'Philosophie'), \n",
    "      ('0002', 'Huis clos. Suivi de Les Mouches', 'Philosophie'), \n",
    "     ('0003', 'Mignonne allons voir si la rose', 'Poeme'), \n",
    "     ('0004', 'Les Amours', 'Poème')]\n",
    "rdd2 = spark.sparkContext.parallelize(t2)\n",
    "book = rdd2.toDF(['bid', 'title', 'category'])\n",
    "book.createOrReplaceTempView('bookSQL')\n",
    "book.show()"
   ]
  },
  {
   "cell_type": "code",
   "execution_count": 13,
   "metadata": {},
   "outputs": [
    {
     "name": "stdout",
     "output_type": "stream",
     "text": [
      "+---+-----+---------+\n",
      "|sid|sname|     dept|\n",
      "+---+-----+---------+\n",
      "|S15| toto|     Math|\n",
      "|S16| popo|      Eco|\n",
      "|S17| fofo|Mécanique|\n",
      "+---+-----+---------+\n",
      "\n"
     ]
    }
   ],
   "source": [
    "t3 = [('S15','toto','Math'),\n",
    "        ('S16','popo','Eco'),\n",
    "        ('S17','fofo','Mécanique')]\n",
    "rdd3 = spark.sparkContext.parallelize(t3)\n",
    "student = rdd3.toDF(['sid','sname','dept'])\n",
    "student.show()"
   ]
  },
  {
   "cell_type": "code",
   "execution_count": 14,
   "metadata": {},
   "outputs": [
    {
     "name": "stdout",
     "output_type": "stream",
     "text": [
      "+-----+----+\n",
      "|  aid| bid|\n",
      "+-----+----+\n",
      "|07890|0001|\n",
      "|07890|0002|\n",
      "|05678|0003|\n",
      "|05678|0003|\n",
      "+-----+----+\n",
      "\n"
     ]
    }
   ],
   "source": [
    "t4 = [('07890','0001'),\n",
    "        ('07890','0002'),\n",
    "        ('05678','0003'),\n",
    "       ('05678','0003')]\n",
    "rdd4 = spark.sparkContext.parallelize(t4)\n",
    "write = rdd4.toDF(['aid','bid'])\n",
    "write.show()"
   ]
  },
  {
   "cell_type": "code",
   "execution_count": 15,
   "metadata": {},
   "outputs": [
    {
     "name": "stdout",
     "output_type": "stream",
     "text": [
      "+---+----+-------------+-----------+\n",
      "|sid| bid|checkout-time|return-time|\n",
      "+---+----+-------------+-----------+\n",
      "|S15|0003|   02-01-2020| 01-02-2020|\n",
      "|S15|0002|   13-06-2020|       null|\n",
      "|S15|0001|   13-06-2020| 13-10-2020|\n",
      "|S16|0002|   24-01-2020| 24-01-2020|\n",
      "|S17|0001|   12-04-2020| 01-07-2020|\n",
      "+---+----+-------------+-----------+\n",
      "\n"
     ]
    }
   ],
   "source": [
    "t5 = [('S15','0003','02-01-2020','01-02-2020'),\n",
    "        ('S15','0002','13-06-2020',None),\n",
    "        ('S15','0001','13-06-2020','13-10-2020'),\n",
    "        ('S16','0002','24-01-2020', '24-01-2020'),\n",
    "        ('S17','0001','12-04-2020','01-07-2020')]\n",
    "rdd5 = spark.sparkContext.parallelize(t5)\n",
    "borrow = rdd5.toDF(['sid','bid','checkout-time','return-time'])\n",
    "borrow.show()"
   ]
  },
  {
   "cell_type": "markdown",
   "metadata": {},
   "source": [
    "1-Trouver les titres de tous les livres que l'étudiant sid='S15' a emprunté."
   ]
  },
  {
   "cell_type": "code",
   "execution_count": 21,
   "metadata": {},
   "outputs": [
    {
     "name": "stdout",
     "output_type": "stream",
     "text": [
      "+---+--------------------+\n",
      "|sid|               title|\n",
      "+---+--------------------+\n",
      "|S15|Huis clos. Suivi ...|\n",
      "|S15|Mignonne allons v...|\n",
      "|S15|L'existentialisme...|\n",
      "+---+--------------------+\n",
      "\n"
     ]
    }
   ],
   "source": [
    "#DSL\n",
    "book\\\n",
    "    .join(borrow,['bid'])\\\n",
    "    .join(student,['sid'])\\\n",
    "    .filter(F.col('sid')=='S15')\\\n",
    "    .select('sid','title')\\\n",
    "    .show()"
   ]
  },
  {
   "cell_type": "code",
   "execution_count": 22,
   "metadata": {},
   "outputs": [
    {
     "name": "stdout",
     "output_type": "stream",
     "text": [
      "+---+--------------------+\n",
      "|sid|               title|\n",
      "+---+--------------------+\n",
      "|S15|Huis clos. Suivi ...|\n",
      "|S15|Mignonne allons v...|\n",
      "|S15|L'existentialisme...|\n",
      "+---+--------------------+\n",
      "\n"
     ]
    }
   ],
   "source": [
    "#SQL\n",
    "spark.sql(\"\"\"\n",
    "    select C.sid, title\n",
    "    from bookSQL as A\n",
    "    join borrowSQL as B\n",
    "    on A.bid = B.bid\n",
    "    join studentSQL as C\n",
    "    on B.sid = C.sid\n",
    "    where B.sid == \"S15\"\n",
    "\"\"\").show()"
   ]
  },
  {
   "cell_type": "markdown",
   "metadata": {},
   "source": [
    "2-Trouver les titres de tous les livres qui n'ont jamais été empruntés par un étudiant."
   ]
  },
  {
   "cell_type": "code",
   "execution_count": 23,
   "metadata": {},
   "outputs": [
    {
     "name": "stdout",
     "output_type": "stream",
     "text": [
      "+----+----------+\n",
      "| sid|     title|\n",
      "+----+----------+\n",
      "|null|Les Amours|\n",
      "+----+----------+\n",
      "\n"
     ]
    }
   ],
   "source": [
    "#DSL\n",
    "book\\\n",
    "    .join(borrow,['bid'], how=\"full\")\\\n",
    "    .join(student,['sid'], how=\"full\")\\\n",
    "    .filter(F.col('sid').isNull())\\\n",
    "    .select('sid','title')\\\n",
    "    .show()"
   ]
  },
  {
   "cell_type": "code",
   "execution_count": 24,
   "metadata": {},
   "outputs": [
    {
     "name": "stdout",
     "output_type": "stream",
     "text": [
      "+----+----------+\n",
      "| sid|     title|\n",
      "+----+----------+\n",
      "|null|Les Amours|\n",
      "+----+----------+\n",
      "\n"
     ]
    }
   ],
   "source": [
    "#SQL\n",
    "spark.sql(\"\"\"\n",
    "    select B.sid, title\n",
    "    from bookSQL as A\n",
    "    full join borrowSQL as B\n",
    "    on A.bid = B.bid\n",
    "    full join studentSQL as C\n",
    "    on B.sid = C.sid\n",
    "    where B.sid is NULL\n",
    "\"\"\").show()"
   ]
  },
  {
   "cell_type": "markdown",
   "metadata": {},
   "source": [
    "3-Trouver tous les étudiants qui ont emprunté le livre bid=’002’"
   ]
  },
  {
   "cell_type": "code",
   "execution_count": 25,
   "metadata": {},
   "outputs": [
    {
     "name": "stdout",
     "output_type": "stream",
     "text": [
      "+----+-----+\n",
      "| bid|sname|\n",
      "+----+-----+\n",
      "|0002| popo|\n",
      "|0002| toto|\n",
      "+----+-----+\n",
      "\n"
     ]
    }
   ],
   "source": [
    "#DSL\n",
    "book\\\n",
    "    .join(borrow,['bid'])\\\n",
    "    .join(student,['sid'])\\\n",
    "    .filter(F.col('bid')=='0002')\\\n",
    "    .select('bid','sname')\\\n",
    "    .show()"
   ]
  },
  {
   "cell_type": "code",
   "execution_count": 26,
   "metadata": {},
   "outputs": [
    {
     "name": "stdout",
     "output_type": "stream",
     "text": [
      "+----+-----+\n",
      "| bid|sname|\n",
      "+----+-----+\n",
      "|0002| popo|\n",
      "|0002| toto|\n",
      "+----+-----+\n",
      "\n"
     ]
    }
   ],
   "source": [
    "#SQL\n",
    "spark.sql(\"\"\"\n",
    "    select B.bid, sname\n",
    "    from bookSQL as A\n",
    "    join borrowSQL as B\n",
    "    on A.bid = B.bid\n",
    "    join studentSQL as C\n",
    "    on B.sid = C.sid\n",
    "    where B.bid == \"0002\"\n",
    "\"\"\").show()"
   ]
  },
  {
   "cell_type": "markdown",
   "metadata": {},
   "source": [
    "4-Trouver les titres de tous les livres empruntés par des étudiants en Mécanique (département Mécanique)"
   ]
  },
  {
   "cell_type": "code",
   "execution_count": 27,
   "metadata": {},
   "outputs": [
    {
     "name": "stdout",
     "output_type": "stream",
     "text": [
      "+---------+--------------------+\n",
      "|     dept|               title|\n",
      "+---------+--------------------+\n",
      "|Mécanique|L'existentialisme...|\n",
      "+---------+--------------------+\n",
      "\n"
     ]
    }
   ],
   "source": [
    "#DSL\n",
    "book\\\n",
    "    .join(borrow,['bid'])\\\n",
    "    .join(student,['sid'])\\\n",
    "    .filter(F.col('dept')=='Mécanique')\\\n",
    "    .select('dept','title')\\\n",
    "    .show()"
   ]
  },
  {
   "cell_type": "code",
   "execution_count": 28,
   "metadata": {},
   "outputs": [
    {
     "name": "stdout",
     "output_type": "stream",
     "text": [
      "+---------+--------------------+\n",
      "|     dept|               title|\n",
      "+---------+--------------------+\n",
      "|Mécanique|L'existentialisme...|\n",
      "+---------+--------------------+\n",
      "\n"
     ]
    }
   ],
   "source": [
    "#SQL\n",
    "spark.sql(\"\"\"\n",
    "    select C.dept, title\n",
    "    from bookSQL as A\n",
    "    join borrowSQL as B\n",
    "    on A.bid = B.bid\n",
    "    join studentSQL as C\n",
    "    on B.sid = C.sid\n",
    "    where C.dept == \"Mécanique\"\n",
    "\"\"\").show()"
   ]
  },
  {
   "cell_type": "markdown",
   "metadata": {},
   "source": [
    "5-Trouver les étudiants qui n’ont jamais emprunté de livre. "
   ]
  },
  {
   "cell_type": "code",
   "execution_count": 30,
   "metadata": {},
   "outputs": [
    {
     "name": "stdout",
     "output_type": "stream",
     "text": [
      "+---+-----+\n",
      "|sid|sname|\n",
      "+---+-----+\n",
      "+---+-----+\n",
      "\n"
     ]
    }
   ],
   "source": [
    "#DSL\n",
    "book\\\n",
    "    .join(borrow,['bid'], how=\"full\")\\\n",
    "    .join(student,['sid'], how=\"full\")\\\n",
    "    .filter(F.col('bid').isNull())\\\n",
    "    .select('sid','sname')\\\n",
    "    .show()"
   ]
  },
  {
   "cell_type": "code",
   "execution_count": 31,
   "metadata": {},
   "outputs": [
    {
     "name": "stdout",
     "output_type": "stream",
     "text": [
      "+---+-----+\n",
      "|sid|sname|\n",
      "+---+-----+\n",
      "+---+-----+\n",
      "\n"
     ]
    }
   ],
   "source": [
    "#SQL\n",
    "spark.sql(\"\"\"\n",
    "    select B.sid, sname\n",
    "    from bookSQL as A\n",
    "    full join borrowSQL as B\n",
    "    on A.bid = B.bid\n",
    "    full join studentSQL as C\n",
    "    on B.sid = C.sid \n",
    "    where A.bid is NULL\n",
    "\"\"\").show()"
   ]
  },
  {
   "cell_type": "markdown",
   "metadata": {},
   "source": [
    "6- Déterminer l’auteur qui a écrit le plus de livres."
   ]
  },
  {
   "cell_type": "code",
   "execution_count": 32,
   "metadata": {},
   "outputs": [
    {
     "name": "stdout",
     "output_type": "stream",
     "text": [
      "+-----------------+--------+\n",
      "|             name|nb_livre|\n",
      "+-----------------+--------+\n",
      "| Jean Paul Sartre|       2|\n",
      "|Pierre de Ronsard|       2|\n",
      "+-----------------+--------+\n",
      "\n"
     ]
    }
   ],
   "source": [
    "#DSL\n",
    "nb_livre = write\\\n",
    "            .join(author,['aid'])\\\n",
    "            .groupby('name')\\\n",
    "            .agg(F.count('aid').alias('nb_livre'))\n",
    "max = nb_livre.collect()[0]['nb_livre']\n",
    "nb_livre\\\n",
    "    .filter(F.col('nb_livre')==max)\\\n",
    "    .show()"
   ]
  },
  {
   "cell_type": "markdown",
   "metadata": {},
   "source": [
    "7- Déterminer les personnes qui n’ont pas encore rendu les livres."
   ]
  },
  {
   "cell_type": "code",
   "execution_count": 35,
   "metadata": {},
   "outputs": [
    {
     "name": "stdout",
     "output_type": "stream",
     "text": [
      "+---+-----+\n",
      "|sid|sname|\n",
      "+---+-----+\n",
      "|S15| toto|\n",
      "+---+-----+\n",
      "\n"
     ]
    }
   ],
   "source": [
    "#DSL\n",
    "borrow\\\n",
    "    .join(student,['sid'], how=\"full\")\\\n",
    "    .filter(F.col('return-time').isNull())\\\n",
    "    .select('sid','sname')\\\n",
    "    .distinct()\\\n",
    "    .show()"
   ]
  },
  {
   "cell_type": "code",
   "execution_count": 36,
   "metadata": {},
   "outputs": [
    {
     "name": "stdout",
     "output_type": "stream",
     "text": [
      "+---+-----+\n",
      "|sid|sname|\n",
      "+---+-----+\n",
      "|S15| toto|\n",
      "+---+-----+\n",
      "\n"
     ]
    }
   ],
   "source": [
    "#SQL\n",
    "spark.sql(\"\"\"\n",
    "    select distinct B.sid, sname\n",
    "    from borrowSQL as A\n",
    "    join studentSQL as B\n",
    "    on A.sid = B.sid\n",
    "    where A.`return-time` is NULL\n",
    "\"\"\").show()"
   ]
  },
  {
   "cell_type": "markdown",
   "metadata": {},
   "source": [
    "8- Créer une nouvelle colonne dans la table borrow qui prend la valeur 1, si la durée d'emprunt est supérieur à 3 mois,  sinon 0."
   ]
  },
  {
   "cell_type": "code",
   "execution_count": 41,
   "metadata": {},
   "outputs": [
    {
     "name": "stdout",
     "output_type": "stream",
     "text": [
      "+---+----+-------------+-----------+---------------+\n",
      "|sid| bid|checkout-time|return-time|plus que 3 mois|\n",
      "+---+----+-------------+-----------+---------------+\n",
      "|S15|0003|   02-01-2020| 01-02-2020|              0|\n",
      "|S15|0002|   13-06-2020|       null|              0|\n",
      "|S15|0001|   13-06-2020| 13-10-2020|              1|\n",
      "|S16|0002|   24-01-2020| 24-01-2020|              0|\n",
      "|S17|0001|   12-04-2020| 01-07-2020|              0|\n",
      "+---+----+-------------+-----------+---------------+\n",
      "\n"
     ]
    }
   ],
   "source": [
    "#SQL\n",
    "spark.sql(\"\"\"\n",
    "    select *, \n",
    "    case\n",
    "        when (months_between(to_date(`return-time`, 'dd-MM-yyyy'),\n",
    "                   to_date(`checkout-time`, 'dd-MM-yyyy')) >= 3) then 1\n",
    "        else 0\n",
    "    end as `plus que 3 mois`\n",
    "    from borrowSQL\n",
    "\"\"\").show()"
   ]
  },
  {
   "cell_type": "markdown",
   "metadata": {},
   "source": [
    "9-déterminer les livres qui n’ont jamais été empruntés. "
   ]
  },
  {
   "cell_type": "code",
   "execution_count": 42,
   "metadata": {},
   "outputs": [
    {
     "name": "stdout",
     "output_type": "stream",
     "text": [
      "+----------+\n",
      "|     title|\n",
      "+----------+\n",
      "|Les Amours|\n",
      "+----------+\n",
      "\n"
     ]
    }
   ],
   "source": [
    "#DSL\n",
    "book\\\n",
    "    .join(borrow,['bid'], how='full')\\\n",
    "    .filter(F.col('sid').isNull())\\\n",
    "    .select('title')\\\n",
    "    .show()"
   ]
  },
  {
   "cell_type": "code",
   "execution_count": 43,
   "metadata": {},
   "outputs": [
    {
     "name": "stdout",
     "output_type": "stream",
     "text": [
      "+----------+\n",
      "|     title|\n",
      "+----------+\n",
      "|Les Amours|\n",
      "+----------+\n",
      "\n"
     ]
    }
   ],
   "source": [
    "#SQL\n",
    "spark.sql(\"\"\"\n",
    "    select A.title\n",
    "    from bookSQL as A\n",
    "    full join borrowSQL as B\n",
    "    on A.bid = B.bid\n",
    "    where B.sid is NULL\n",
    "\"\"\").show()"
   ]
  },
  {
   "cell_type": "code",
   "execution_count": null,
   "metadata": {},
   "outputs": [],
   "source": []
  }
 ],
 "metadata": {
  "kernelspec": {
   "display_name": "Python 3",
   "language": "python",
   "name": "python3"
  },
  "language_info": {
   "codemirror_mode": {
    "name": "ipython",
    "version": 3
   },
   "file_extension": ".py",
   "mimetype": "text/x-python",
   "name": "python",
   "nbconvert_exporter": "python",
   "pygments_lexer": "ipython3",
   "version": "3.8.5"
  }
 },
 "nbformat": 4,
 "nbformat_minor": 4
}
